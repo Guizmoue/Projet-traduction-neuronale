{
 "cells": [
  {
   "cell_type": "markdown",
   "metadata": {},
   "source": [
    "# Entraînement du modèle\n",
    "\n",
    "## Préparation des données\n",
    "\n",
    "Nous allons entraîner le modèle sur notre corpus de train composé des fichiers `Europarl_train_10k.lem.true.clean.en`, `Europarl_train_10k.lem.true.clean.fr`, `Emea_train_1k.lem.true.clean.en` et `Emea_train_1k.lem.true.clean.fr` .\n",
    "\n",
    "Les fichiers `Europarl_dev_1k.lem.true.clean.en` et `Europarl_dev_1k.lem.true.clean.fr` seront utilisés comme fichiers de validation.\n",
    "\n",
    "Les paramètres de configuration sont contenus dans le fichier `run4.yaml`. Avec cette configuration, nous pourrons générer les fichiers de vocabulaire nécessaires à l'entraînement du modèle : `Europarl_train_10k.lem.vocab.src` et `Europarl_train_10k.lem.vocab.tgt`."
   ]
  },
  {
   "cell_type": "markdown",
   "metadata": {},
   "source": [
    "Enfin, nous testerons notre modèle sur les fichiers de test `Europarl_test_500.lem.true.clean.en` et `Emea_test_50.lem.true.clean.en`"
   ]
  },
  {
   "cell_type": "code",
   "execution_count": null,
   "metadata": {},
   "outputs": [],
   "source": [
    "!onmt_build_vocab -config ../data/models/run4.yaml -n_sample 10000"
   ]
  },
  {
   "cell_type": "markdown",
   "metadata": {},
   "source": [
    "## Entraînement du modèle"
   ]
  },
  {
   "cell_type": "code",
   "execution_count": null,
   "metadata": {},
   "outputs": [],
   "source": [
    "!onmt_train -config ../data/models/run4.yaml"
   ]
  },
  {
   "cell_type": "markdown",
   "metadata": {},
   "source": [
    "### Traduction"
   ]
  },
  {
   "cell_type": "markdown",
   "metadata": {},
   "source": [
    "Nous pouvons maintenant lancer la traduction grâce au modèle que nous avons entraîné. Cependant, du fait des capacités limitées de nos machines, nous n'avons pu entraîner le modèle que sur une quantité restreinte de données et la traduction a de fortes chances d'être assez mauvaise."
   ]
  },
  {
   "cell_type": "markdown",
   "metadata": {},
   "source": [
    "##### Traduction du corpus de test Europarl"
   ]
  },
  {
   "cell_type": "code",
   "execution_count": null,
   "metadata": {},
   "outputs": [],
   "source": [
    "!onmt_translate -model ../data/run4/model4_step_1000.pt -src ../data/clean/europarl/Europarl_test_500.lem.true.clean.en -output ../data/outputs/Europarl_pred_500_run4.lem.true.clean.fr -gpu -1 -verbose"
   ]
  },
  {
   "cell_type": "markdown",
   "metadata": {},
   "source": [
    "##### Traduction du corspu de test EMEA"
   ]
  },
  {
   "cell_type": "code",
   "execution_count": null,
   "metadata": {},
   "outputs": [],
   "source": [
    "!onmt_translate -model ../data/run4/model4_step_1000.pt -src ../data/clean/emea/Emea_test_50.lem.true.clean.en -output ../data/outputs/Emea_pred_50_run4.lem.true.clean.fr -gpu -1 -verbose"
   ]
  }
 ],
 "metadata": {
  "kernelspec": {
   "display_name": "CondaTAA",
   "language": "python",
   "name": "python3"
  },
  "language_info": {
   "codemirror_mode": {
    "name": "ipython",
    "version": 3
   },
   "file_extension": ".py",
   "mimetype": "text/x-python",
   "name": "python",
   "nbconvert_exporter": "python",
   "pygments_lexer": "ipython3",
   "version": "3.9.19"
  }
 },
 "nbformat": 4,
 "nbformat_minor": 2
}
