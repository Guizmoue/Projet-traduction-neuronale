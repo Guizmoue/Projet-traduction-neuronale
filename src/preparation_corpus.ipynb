{
 "cells": [
  {
   "cell_type": "markdown",
   "metadata": {},
   "source": [
    "# Préparation du corpus\n",
    "\n",
    "Afin de préparer le corpus pour l'apprentissage, nous allons le nettoyer en :\n",
    "- Tokenisant\n",
    "- Transformant les majuscules en minuscules\n",
    "  \n",
    "> Ce notebook nécessite d'avoir le script `tokenizer.perl` disponible sur https://github.com/moses-smt/mosesdecoder"
   ]
  },
  {
   "cell_type": "markdown",
   "metadata": {},
   "source": [
    "## Tokenisation"
   ]
  },
  {
   "cell_type": "code",
   "execution_count": 2,
   "metadata": {},
   "outputs": [],
   "source": [
    "# Chemin vers le script de tokenisation\n",
    "tokenizer = \"../../../GitMoses/mosesdecoder/scripts/tokenizer/tokenizer.perl\""
   ]
  },
  {
   "cell_type": "markdown",
   "metadata": {},
   "source": []
  },
  {
   "cell_type": "code",
   "execution_count": 6,
   "metadata": {},
   "outputs": [
    {
     "name": "stdout",
     "output_type": "stream",
     "text": [
      "Tokenizer Version 1.1\n",
      "Language: en\n",
      "Number of threads: 1\n",
      "Tokenizer Version 1.1\n",
      "Language: fr\n",
      "Number of threads: 1\n",
      "Tokenizer Version 1.1\n",
      "Language: en\n",
      "Number of threads: 1\n",
      "Tokenizer Version 1.1\n",
      "Language: fr\n",
      "Number of threads: 1\n",
      "Tokenizer Version 1.1\n",
      "Language: en\n",
      "Number of threads: 1\n",
      "Tokenizer Version 1.1\n",
      "Language: fr\n",
      "Number of threads: 1\n"
     ]
    }
   ],
   "source": [
    "!{tokenizer} -l en < ../data/raw/europarl/Europarl_train_10k.en > ../data/clean/europarl/Europarl_train_10k.tok.en\n",
    "\n",
    "!{tokenizer} -l fr < ../data/raw/europarl/Europarl_train_10k.fr > ../data/clean/europarl/Europarl_train_10k.tok.fr\n",
    "\n",
    "!{tokenizer} -l en <../data/raw/europarl/Europarl_dev_1k.en > ../data/clean/europarl/Europarl_dev_1k.tok.en\n",
    "\n",
    "!{tokenizer} -l fr < ../data/raw/europarl/Europarl_dev_1k.fr > ../data/clean/europarl/Europarl_dev_1k.tok.fr\n",
    "\n",
    "!{tokenizer} -l en < ../data/raw/europarl/Europarl_test_500.en > ../data/clean/europarl/Europarl_test_500.tok.en\n",
    "\n",
    "!{tokenizer} -l fr < ../data/raw/europarl/Europarl_test_500.fr > ../data/clean/europarl/Europarl_test_500.tok.fr"
   ]
  },
  {
   "cell_type": "markdown",
   "metadata": {},
   "source": [
    "## Transformation des majuscules en minuscules"
   ]
  },
  {
   "cell_type": "markdown",
   "metadata": {},
   "source": []
  }
 ],
 "metadata": {
  "kernelspec": {
   "display_name": "CondaTAA",
   "language": "python",
   "name": "python3"
  },
  "language_info": {
   "codemirror_mode": {
    "name": "ipython",
    "version": 3
   },
   "file_extension": ".py",
   "mimetype": "text/x-python",
   "name": "python",
   "nbconvert_exporter": "python",
   "pygments_lexer": "ipython3",
   "version": "3.9.19"
  }
 },
 "nbformat": 4,
 "nbformat_minor": 2
}
