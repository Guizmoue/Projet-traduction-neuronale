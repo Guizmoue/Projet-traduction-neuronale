{
 "cells": [
  {
   "cell_type": "markdown",
   "metadata": {},
   "source": [
    "# Préparation du corpus\n",
    "\n",
    "Afin de préparer le corpus pour l'apprentissage, nous allons le nettoyer en :\n",
    "- Tokenisant\n",
    "- Transformant les majuscules en minuscules\n",
    "- Limitant la longueur des phrases à 80 caractères\n",
    "  \n",
    "> Ce notebook nécessite d'avoir les scripts `tokenizer.perl` `train-truecaser.perl` et `truecase.perl` disponibles sur https://github.com/moses-smt/mosesdecoder"
   ]
  },
  {
   "cell_type": "markdown",
   "metadata": {},
   "source": [
    "## I. Tokenisation"
   ]
  },
  {
   "cell_type": "code",
   "execution_count": 2,
   "metadata": {},
   "outputs": [],
   "source": [
    "# Chemin vers le script de tokenisation\n",
    "tokenizer = \"../../../GitMoses/mosesdecoder/scripts/tokenizer/tokenizer.perl\""
   ]
  },
  {
   "cell_type": "markdown",
   "metadata": {},
   "source": [
    "### A. Tokenisation du corpus Europarl"
   ]
  },
  {
   "cell_type": "code",
   "execution_count": 24,
   "metadata": {},
   "outputs": [
    {
     "name": "stdout",
     "output_type": "stream",
     "text": [
      "Tokenizer Version 1.1\n",
      "Language: en\n",
      "Number of threads: 1\n",
      "Tokenizer Version 1.1\n",
      "Language: fr\n",
      "Number of threads: 1\n",
      "Tokenizer Version 1.1\n",
      "Language: en\n",
      "Number of threads: 1\n",
      "Tokenizer Version 1.1\n",
      "Language: fr\n",
      "Number of threads: 1\n",
      "Tokenizer Version 1.1\n",
      "Language: en\n",
      "Number of threads: 1\n",
      "Tokenizer Version 1.1\n",
      "Language: fr\n",
      "Number of threads: 1\n"
     ]
    }
   ],
   "source": [
    "!{tokenizer} -l en < ../data/raw/europarl/Europarl_train_10k.en > ../data/clean/europarl/Europarl_train_10k.tok.en\n",
    "\n",
    "!{tokenizer} -l fr < ../data/raw/europarl/Europarl_train_10k.fr > ../data/clean/europarl/Europarl_train_10k.tok.fr\n",
    "\n",
    "!{tokenizer} -l en <../data/raw/europarl/Europarl_dev_1k.en > ../data/clean/europarl/Europarl_dev_1k.tok.en\n",
    "\n",
    "!{tokenizer} -l fr < ../data/raw/europarl/Europarl_dev_1k.fr > ../data/clean/europarl/Europarl_dev_1k.tok.fr\n",
    "\n",
    "!{tokenizer} -l en < ../data/raw/europarl/Europarl_test_500.en > ../data/clean/europarl/Europarl_test_500.tok.en\n",
    "\n",
    "!{tokenizer} -l fr < ../data/raw/europarl/Europarl_test_500.fr > ../data/clean/europarl/Europarl_test_500.tok.fr"
   ]
  },
  {
   "cell_type": "markdown",
   "metadata": {},
   "source": [
    "### B. Tokenisation du corpus EMEA"
   ]
  },
  {
   "cell_type": "code",
   "execution_count": 3,
   "metadata": {},
   "outputs": [
    {
     "name": "stdout",
     "output_type": "stream",
     "text": [
      "Tokenizer Version 1.1\n",
      "Language: en\n",
      "Number of threads: 1\n",
      "Tokenizer Version 1.1\n",
      "Language: fr\n",
      "Number of threads: 1\n",
      "Tokenizer Version 1.1\n",
      "Language: en\n",
      "Number of threads: 1\n",
      "Tokenizer Version 1.1\n",
      "Language: fr\n",
      "Number of threads: 1\n"
     ]
    }
   ],
   "source": [
    "# Tokenize English training corpus\n",
    "!{tokenizer} -l en < ../data/raw/emea/Emea_train_1k.en > ../data/clean/emea/Emea_train_1k.tok.en\n",
    "\n",
    "# Tokenize French training corpus\n",
    "!{tokenizer} -l fr < ../data/raw/emea/Emea_train_1k.fr > ../data/clean/emea/Emea_train_1k.tok.fr\n",
    "\n",
    "# Tokenize English test corpus\n",
    "!{tokenizer} -l en < ../data/raw/emea/Emea_test_50.en  > ../data/clean/emea/Emea_test_50.tok.en\n",
    "\n",
    "# Tokenize French test corpus\n",
    "!{tokenizer} -l fr < ../data/raw/emea/Emea_test_50.fr  > ../data/clean/emea/Emea_test_50.tok.fr\n"
   ]
  },
  {
   "cell_type": "markdown",
   "metadata": {},
   "source": [
    "## II. Transformation des majuscules en minuscules"
   ]
  },
  {
   "cell_type": "markdown",
   "metadata": {},
   "source": [
    "Une fois le corpus tokenisé, nous allons transformer les majuscules en minuscules. Nous allons commencer par lancer l'apprentissage du modèle de transformation, puis lancer le modèle de transformation des majuscules en minuscules"
   ]
  },
  {
   "cell_type": "code",
   "execution_count": 4,
   "metadata": {},
   "outputs": [],
   "source": [
    "train_truecaser = \"../../../GitMoses/mosesdecoder/scripts/recaser/train-truecaser.perl\"\n",
    "truecaser = \"../../../GitMoses/mosesdecoder/scripts/recaser/truecase.perl\""
   ]
  },
  {
   "cell_type": "markdown",
   "metadata": {},
   "source": [
    "### A. Apprentissage"
   ]
  },
  {
   "cell_type": "markdown",
   "metadata": {},
   "source": [
    "#### 1. Europarl"
   ]
  },
  {
   "cell_type": "code",
   "execution_count": 27,
   "metadata": {},
   "outputs": [],
   "source": [
    "!{train_truecaser} --model ../data/models/truecase-model.en --corpus ../data/clean/europarl/Europarl_train_10k.tok.en\n",
    "\n",
    "!{train_truecaser} --model ../data/models/truecase-model.fr --corpus ../data/clean/europarl/Europarl_train_10k.tok.fr"
   ]
  },
  {
   "cell_type": "markdown",
   "metadata": {},
   "source": [
    "#### 2. EMEA"
   ]
  },
  {
   "cell_type": "code",
   "execution_count": 5,
   "metadata": {},
   "outputs": [],
   "source": [
    "!{train_truecaser} --model ../data/models/truecase-model.en --corpus ../data/clean/emea/Emea_train_1k.tok.en\n",
    "\n",
    "!{train_truecaser} --model ../data/models/truecase-model.fr --corpus ../data/clean/emea/Emea_train_1k.tok.fr"
   ]
  },
  {
   "cell_type": "markdown",
   "metadata": {},
   "source": [
    "### B. Transformation des majuscules en minuscules\n",
    "\n",
    "#### 1. Europarl"
   ]
  },
  {
   "cell_type": "code",
   "execution_count": 29,
   "metadata": {},
   "outputs": [],
   "source": [
    "!{truecaser} --model ../data/models/truecase-model.en < ../data/clean/europarl/Europarl_train_10k.tok.en > ../data/clean/europarl/Europarl_train_10k.tok.true.en\n",
    "\n",
    "!{truecaser} --model ../data/models/truecase-model.fr < ../data/clean/europarl/Europarl_train_10k.tok.fr > ../data/clean/europarl/Europarl_train_10k.tok.true.fr\n",
    "\n",
    "!{truecaser} --model ../data/models/truecase-model.en < ../data/clean/europarl/Europarl_dev_1k.tok.en > ../data/clean/europarl/Europarl_dev_1k.tok.true.en\n",
    "\n",
    "!{truecaser} --model ../data/models/truecase-model.fr < ../data/clean/europarl/Europarl_dev_1k.tok.fr > ../data/clean/europarl/Europarl_dev_1k.tok.true.fr\n",
    "\n",
    "!{truecaser} --model ../data/models/truecase-model.en < ../data/clean/europarl/Europarl_test_500.tok.en > ../data/clean/europarl/Europarl_test_500.tok.true.en\n",
    "\n",
    "!{truecaser} --model ../data/models/truecase-model.fr < ../data/clean/europarl/Europarl_test_500.tok.fr > ../data/clean/europarl/Europarl_test_500.tok.true.fr"
   ]
  },
  {
   "cell_type": "markdown",
   "metadata": {},
   "source": [
    "#### 2. EMEA"
   ]
  },
  {
   "cell_type": "code",
   "execution_count": 6,
   "metadata": {},
   "outputs": [],
   "source": [
    "!{truecaser} --model ../data/models/truecase-model.en < ../data/clean/emea/Emea_train_1k.tok.en > ../data/clean/emea/Emea_train_1k.tok.true.en\n",
    "\n",
    "!{truecaser} --model ../data/models/truecase-model.fr < ../data/clean/emea/Emea_train_1k.tok.fr > ../data/clean/emea/Emea_train_1k.tok.true.fr\n",
    "\n",
    "!{truecaser} --model ../data/models/truecase-model.en < ../data/clean/emea/Emea_test_50.tok.en > ../data/clean/emea/Emea_test_50.tok.true.en\n",
    "\n",
    "!{truecaser} --model ../data/models/truecase-model.fr < ../data/clean/emea/Emea_test_50.tok.fr > ../data/clean/emea/Emea_test_50.tok.true.fr"
   ]
  },
  {
   "cell_type": "markdown",
   "metadata": {},
   "source": [
    "## III. Nettoyage en limitant la longueur des phrases à 80 caractères"
   ]
  },
  {
   "cell_type": "code",
   "execution_count": 7,
   "metadata": {},
   "outputs": [],
   "source": [
    "clean_corpus = \"../../../GitMoses/mosesdecoder/scripts/training/clean-corpus-n.perl\""
   ]
  },
  {
   "cell_type": "markdown",
   "metadata": {},
   "source": [
    "### A. Europarl"
   ]
  },
  {
   "cell_type": "code",
   "execution_count": 32,
   "metadata": {},
   "outputs": [
    {
     "name": "stdout",
     "output_type": "stream",
     "text": [
      "clean-corpus.perl: processing ../data/clean/europarl/Europarl_train_10k.tok.true.fr & .en to ../data/clean/europarl/Europarl_train_10k.tok.true.clean, cutoff 1-80, ratio 9\n",
      ".\n",
      "Input sentences: 10000  Output sentences:  9767\n",
      "clean-corpus.perl: processing ../data/clean/europarl/Europarl_dev_1k.tok.true.fr & .en to ../data/clean/europarl/Europarl_dev_1k.tok.true.clean, cutoff 1-80, ratio 9\n",
      "\n",
      "Input sentences: 1000  Output sentences:  986\n",
      "clean-corpus.perl: processing ../data/clean/europarl/Europarl_test_500.tok.true.fr & .en to ../data/clean/europarl/Europarl_test_500.tok.true.clean, cutoff 1-80, ratio 9\n",
      "\n",
      "Input sentences: 500  Output sentences:  495\n"
     ]
    }
   ],
   "source": [
    "!{clean_corpus}  ../data/clean/europarl/Europarl_train_10k.tok.true fr en ../data/clean/europarl/Europarl_train_10k.tok.true.clean 1 80\n",
    "\n",
    "!{clean_corpus}  ../data/clean/europarl/Europarl_dev_1k.tok.true fr en ../data/clean/europarl/Europarl_dev_1k.tok.true.clean 1 80\n",
    "\n",
    "!{clean_corpus}  ../data/clean/europarl/Europarl_test_500.tok.true fr en ../data/clean/europarl/Europarl_test_500.tok.true.clean 1 80"
   ]
  },
  {
   "cell_type": "markdown",
   "metadata": {},
   "source": [
    "### B. EMEA"
   ]
  },
  {
   "cell_type": "code",
   "execution_count": 8,
   "metadata": {},
   "outputs": [
    {
     "name": "stdout",
     "output_type": "stream",
     "text": [
      "clean-corpus.perl: processing ../data/clean/emea/Emea_train_1k.tok.true.fr & .en to ../data/clean/emea/Emea_train_1k.tok.true.clean, cutoff 1-80, ratio 9\n",
      "\n",
      "Input sentences: 1000  Output sentences:  986\n",
      "clean-corpus.perl: processing ../data/clean/emea/Emea_test_50.tok.true.fr & .en to ../data/clean/emea/Emea_test_50.tok.true.clean, cutoff 1-80, ratio 9\n",
      "\n",
      "Input sentences: 50  Output sentences:  49\n"
     ]
    }
   ],
   "source": [
    "!{clean_corpus}  ../data/clean/emea/Emea_train_1k.tok.true fr en ../data/clean/emea/Emea_train_1k.tok.true.clean 1 80\n",
    "\n",
    "!{clean_corpus}  ../data/clean/emea/Emea_test_50.tok.true fr en ../data/clean/emea/Emea_test_50.tok.true.clean 1 80"
   ]
  },
  {
   "cell_type": "code",
   "execution_count": null,
   "metadata": {},
   "outputs": [],
   "source": []
  }
 ],
 "metadata": {
  "kernelspec": {
   "display_name": "CondaTAA",
   "language": "python",
   "name": "python3"
  },
  "language_info": {
   "codemirror_mode": {
    "name": "ipython",
    "version": 3
   },
   "file_extension": ".py",
   "mimetype": "text/x-python",
   "name": "python",
   "nbconvert_exporter": "python",
   "pygments_lexer": "ipython3",
   "version": "3.9.19"
  }
 },
 "nbformat": 4,
 "nbformat_minor": 2
}
