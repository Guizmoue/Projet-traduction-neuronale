{
 "cells": [
  {
   "cell_type": "markdown",
   "metadata": {},
   "source": [
    "# Création du corpus EMEA"
   ]
  },
  {
   "cell_type": "markdown",
   "metadata": {},
   "source": [
    "Afin d’évaluer OpenNMT, nous allons le tester sur deux corpus parallèles pour le couple de langues anglais-français: un corpus avec des données du domaine et un autre hors-domaine.\n",
    "\n",
    "Notre corpus dans le domaine est Europarl et il est déjà divisé en dev, train et test.\n",
    "\n",
    "Notre corpus hors-domaine contiendra un mélange de Europarl et Emea et il convient donc de le créer.\n"
   ]
  },
  {
   "cell_type": "markdown",
   "metadata": {},
   "source": [
    "## Charger les données"
   ]
  },
  {
   "cell_type": "code",
   "execution_count": 9,
   "metadata": {},
   "outputs": [],
   "source": [
    "from sklearn.model_selection import train_test_split\n",
    "\n",
    "corpus_en = \"../data/raw/emea/EMEA.en\"\n",
    "corpus_fr = \"../data/raw/emea/EMEA.fr\"\n",
    "\n",
    "with open(corpus_en, 'r') as file:\n",
    "    en = file.readlines()\n",
    "\n",
    "with open(corpus_fr, 'r') as file:\n",
    "    fr = file.readlines()"
   ]
  },
  {
   "cell_type": "markdown",
   "metadata": {},
   "source": [
    "## Corpus de train"
   ]
  },
  {
   "cell_type": "code",
   "execution_count": 10,
   "metadata": {},
   "outputs": [],
   "source": [
    "all_pairs = list(zip(en, fr))\n",
    "\n",
    "# Extraction de 1000 paires de phrases pour le corpus train\n",
    "train_pairs, other_pairs = train_test_split(all_pairs, train_size=1000, random_state=42)\n",
    "\n",
    "train_en, train_fr = zip(*train_pairs)\n"
   ]
  },
  {
   "cell_type": "markdown",
   "metadata": {},
   "source": [
    "## Corpus de test"
   ]
  },
  {
   "cell_type": "code",
   "execution_count": 11,
   "metadata": {},
   "outputs": [],
   "source": [
    "# Extraction de 50 paires de phrases pour le corpus test\n",
    "test_pairs, _ = train_test_split(other_pairs, train_size=50, random_state=42)\n",
    "\n",
    "test_en, test_fr = zip(*test_pairs)"
   ]
  },
  {
   "cell_type": "markdown",
   "metadata": {},
   "source": [
    "## Sauvegarde"
   ]
  },
  {
   "cell_type": "code",
   "execution_count": 13,
   "metadata": {},
   "outputs": [],
   "source": [
    "def sauvegarde(sentences, path):\n",
    "    \"\"\"\n",
    "    Sauvegarde une liste de phrases dans un fichier texte.\n",
    "\n",
    "    Cette fonction prend une liste de phrases et un chemin de fichier, et écrit chaque phrase\n",
    "    dans le fichier spécifié. Chaque phrase est écrite sur une nouvelle ligne.\n",
    "\n",
    "    Parameters:\n",
    "    sentences (list of str): La liste des phrases à sauvegarder.\n",
    "    path (str): Le chemin du fichier où les phrases seront sauvegardées.\n",
    "\n",
    "    Example:\n",
    "    >>> sentences = [\"Hello, world!\", \"This is a test sentence.\"]\n",
    "    >>> path = \"output.txt\"\n",
    "    >>> sauvegarde(sentences, path)\n",
    "    Le fichier 'output.txt' contiendra:\n",
    "    Hello, world!\n",
    "    This is a test sentence.\n",
    "    \"\"\"\n",
    "    with open(path, 'w') as file:\n",
    "        for sentence in sentences:\n",
    "            file.write(sentence)\n",
    "\n",
    "# Dossier où les fichiers seront sauvegardés\n",
    "dossier = \"../data/raw/emea/\"\n",
    "\n",
    "# Sauvegarder les ensembles d'entraînement\n",
    "sauvegarde(train_en, dossier + 'Emea_train_1k.en')\n",
    "sauvegarde(train_fr, dossier + 'Emea_train_1k.fr')\n",
    "\n",
    "# Sauvegarder les ensembles de test\n",
    "sauvegarde(test_en, dossier + 'Emea_test_50.en')\n",
    "sauvegarde(test_fr, dossier + 'Emea_test_50.fr')\n"
   ]
  },
  {
   "cell_type": "code",
   "execution_count": null,
   "metadata": {},
   "outputs": [],
   "source": []
  }
 ],
 "metadata": {
  "kernelspec": {
   "display_name": "CondaTAA",
   "language": "python",
   "name": "python3"
  },
  "language_info": {
   "codemirror_mode": {
    "name": "ipython",
    "version": 3
   },
   "file_extension": ".py",
   "mimetype": "text/x-python",
   "name": "python",
   "nbconvert_exporter": "python",
   "pygments_lexer": "ipython3",
   "version": "3.9.19"
  }
 },
 "nbformat": 4,
 "nbformat_minor": 2
}
