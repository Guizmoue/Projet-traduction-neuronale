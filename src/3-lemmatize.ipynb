{
 "cells": [
  {
   "cell_type": "markdown",
   "metadata": {},
   "source": [
    "### Lemmatiser les textes\n",
    "#### Textes anglais\n",
    "Utilisation de NLTK\n",
    "\n",
    "#### Textes français\n",
    "Utilisation de SPACY"
   ]
  },
  {
   "cell_type": "code",
   "execution_count": 1,
   "metadata": {},
   "outputs": [
    {
     "ename": "ModuleNotFoundError",
     "evalue": "No module named 'nltk'",
     "output_type": "error",
     "traceback": [
      "\u001b[0;31m---------------------------------------------------------------------------\u001b[0m",
      "\u001b[0;31mModuleNotFoundError\u001b[0m                       Traceback (most recent call last)",
      "Cell \u001b[0;32mIn[1], line 4\u001b[0m\n\u001b[1;32m      1\u001b[0m \u001b[38;5;28;01mimport\u001b[39;00m \u001b[38;5;21;01mglob\u001b[39;00m\n\u001b[1;32m      2\u001b[0m \u001b[38;5;28;01mimport\u001b[39;00m \u001b[38;5;21;01mspacy\u001b[39;00m\n\u001b[0;32m----> 4\u001b[0m \u001b[38;5;28;01mimport\u001b[39;00m \u001b[38;5;21;01mnltk\u001b[39;00m\n\u001b[1;32m      5\u001b[0m \u001b[38;5;28;01mfrom\u001b[39;00m \u001b[38;5;21;01mnltk\u001b[39;00m\u001b[38;5;21;01m.\u001b[39;00m\u001b[38;5;21;01mcorpus\u001b[39;00m \u001b[38;5;28;01mimport\u001b[39;00m wordnet\n\u001b[1;32m      6\u001b[0m \u001b[38;5;28;01mfrom\u001b[39;00m \u001b[38;5;21;01mnltk\u001b[39;00m\u001b[38;5;21;01m.\u001b[39;00m\u001b[38;5;21;01mstem\u001b[39;00m \u001b[38;5;28;01mimport\u001b[39;00m WordNetLemmatizer\n",
      "\u001b[0;31mModuleNotFoundError\u001b[0m: No module named 'nltk'"
     ]
    }
   ],
   "source": [
    "import glob\n",
    "import spacy\n",
    "\n",
    "import nltk\n",
    "from nltk.corpus import wordnet\n",
    "from nltk.stem import WordNetLemmatizer\n",
    "from nltk.tokenize import word_tokenize\n",
    "from nltk.corpus import stopwords\n",
    "\n",
    "# Téléchargement des ressources nécessaires\n",
    "nltk.download('punkt')\n",
    "nltk.download('wordnet')\n",
    "nltk.download('averaged_perceptron_tagger')\n",
    "nltk.download('stopwords')\n",
    "\n",
    "# Charger le modèle de langue française\n",
    "nlp = spacy.load('fr_core_news_sm')\n",
    "\n",
    "def wordnet_pos(treebank_tag):\n",
    "    if treebank_tag.startswith('J'):\n",
    "        return wordnet.ADJ\n",
    "    elif treebank_tag.startswith('V'):\n",
    "        return wordnet.VERB\n",
    "    elif treebank_tag.startswith('N'):\n",
    "        return wordnet.NOUN\n",
    "    elif treebank_tag.startswith('R'):\n",
    "        return wordnet.ADV\n",
    "    else:\n",
    "        return wordnet.NOUN\n",
    "    \n",
    "def lemmatizer_nltk(text):\n",
    "    lemmatizer = WordNetLemmatizer()\n",
    "    tokens = word_tokenize(text)\n",
    "    pos_tags = nltk.pos_tag(tokens)\n",
    "    lemmatized_tokens = [lemmatizer.lemmatize(token, wordnet_pos(pos)) for token, pos in pos_tags]\n",
    "    return ' '.join(lemmatized_tokens)\n",
    "\n",
    "def generate_path(path: str) -> str:\n",
    "        print(f\"Chemin d'origine : {path}\")\n",
    "        \n",
    "        # Diviser le chemin du fichier pour manipuler le nom de fichier\n",
    "        path_parts = path.split(\"_\")\n",
    "        \n",
    "        # Modifier la partie finale du nom de fichier pour remplacer 'tok' par 'lem'\n",
    "        end = path_parts[2]\n",
    "        end_parts = end.split(\".\")\n",
    "        end_parts[1] = \"lem\"\n",
    "        new_end = \".\".join(end_parts)\n",
    "        path_parts[2] = new_end\n",
    "        \n",
    "        # Reconstituer le nouveau chemin de fichier\n",
    "        new_path = \"_\".join(path_parts)\n",
    "        print(f\"Nouveau chemin : {new_path}\")\n",
    "        return new_path\n",
    "\n",
    "def lemmatizer_spacy(text):\n",
    "    doc = nlp(text)\n",
    "    lemmatized_tokens = [token.lemma_ for token in doc]\n",
    "    return ' '.join(lemmatized_tokens)\n",
    "\n",
    "\n",
    "# Fonction de décodage des entités HTML courantes\n",
    "def correcter(text):\n",
    "    html_entities = {\n",
    "        \"&apos;\": \"'\",\n",
    "        \"&quot;\": '\"',\n",
    "        \"&amp;\": \"&\",\n",
    "        \"&lt;\": \"<\",\n",
    "        \"&gt;\": \">\"\n",
    "    }\n",
    "    for entity, char in html_entities.items():\n",
    "        text = text.replace(entity, char)\n",
    "    return text\n",
    "\n",
    "def lemmatization(paths: str) -> None:\n",
    "    for path in paths:\n",
    "        lemmatize_text = \"\"\n",
    "        new_path = generate_path(path)\n",
    "        # Lire le contenu du fichier d'origine\n",
    "        with open(path, \"r\", encoding=\"utf-8\") as file:\n",
    "            lines = file.readlines()\n",
    "            for line in lines:\n",
    "                # Corriger les entités HTML pour chaque ligne et lemmatiser\n",
    "                corrected_line = correcter(line.strip())\n",
    "                if path[-2:] == \"fr\":\n",
    "                    lemmatized_line = lemmatizer_spacy(corrected_line)\n",
    "                if path[-2:] == \"en\":\n",
    "                    lemmatized_line = lemmatizer_nltk(corrected_line)\n",
    "                lemmatize_text += lemmatized_line + \"\\n\"  # Retour à la ligne après chaque ligne lemmatisée\n",
    "        # Afficher le texte lemmatisé\n",
    "        #print(lemmatize_text)\n",
    "\n",
    "        # Écrire le texte lemmatisé dans le nouveau fichier\n",
    "        with open(new_path, \"w\", encoding=\"utf-8\") as new_file:\n",
    "            new_file.write(lemmatize_text)"
   ]
  },
  {
   "cell_type": "markdown",
   "metadata": {},
   "source": [
    "Il convient de modifier (commenter / décommenter ) le chemin vers le dossier contenant les fichiers à lemmatiser"
   ]
  },
  {
   "cell_type": "code",
   "execution_count": null,
   "metadata": {},
   "outputs": [
    {
     "name": "stdout",
     "output_type": "stream",
     "text": [
      "Chemin d'origine : ../data/clean/europarl/Europarl_dev_1k.tok.true.clean.fr\n",
      "Nouveau chemin : ../data/clean/europarl/Europarl_dev_1k.lem.true.clean.fr\n",
      "Chemin d'origine : ../data/clean/europarl/Europarl_train_10k.tok.true.clean.fr\n",
      "Nouveau chemin : ../data/clean/europarl/Europarl_train_10k.lem.true.clean.fr\n",
      "Chemin d'origine : ../data/clean/europarl/Europarl_dev_1k.tok.true.clean.en\n",
      "Nouveau chemin : ../data/clean/europarl/Europarl_dev_1k.lem.true.clean.en\n",
      "Chemin d'origine : ../data/clean/europarl/Europarl_train_10k.tok.true.clean.en\n",
      "Nouveau chemin : ../data/clean/europarl/Europarl_train_10k.lem.true.clean.en\n"
     ]
    }
   ],
   "source": [
    "# Utiliser glob pour trouver tous les fichiers\n",
    "file_paths = glob.glob('../data/clean/emea/*')\n",
    "# file_paths = glob.glob('../data/clean/europarl/*')\n",
    "\n",
    "paths = []\n",
    "for file in file_paths:\n",
    "    file_parts = file.split(\"_\")\n",
    "    if file_parts[1] in [\"train\", \"dev\", \"test\"]:\n",
    "        if file_parts[2] in [\"10k.tok.true.clean.fr\", \"1k.tok.true.clean.fr\", \"10k.tok.true.clean.en\", \"1k.tok.true.clean.en\", \"50.tok.true.clean.fr\", \"50.tok.true.clean.en\"]:\n",
    "            paths.append(file)\n",
    "\n",
    "lemmatization(paths)"
   ]
  },
  {
   "cell_type": "markdown",
   "metadata": {},
   "source": []
  }
 ],
 "metadata": {
  "kernelspec": {
   "display_name": "conda_TAA",
   "language": "python",
   "name": "python3"
  },
  "language_info": {
   "codemirror_mode": {
    "name": "ipython",
    "version": 3
   },
   "file_extension": ".py",
   "mimetype": "text/x-python",
   "name": "python",
   "nbconvert_exporter": "python",
   "pygments_lexer": "ipython3",
   "version": "3.9.19"
  }
 },
 "nbformat": 4,
 "nbformat_minor": 2
}
